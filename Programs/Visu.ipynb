{
 "cells": [
  {
   "cell_type": "markdown",
   "metadata": {},
   "source": [
    "# Import Libraries"
   ]
  },
  {
   "cell_type": "code",
   "execution_count": 1,
   "metadata": {},
   "outputs": [],
   "source": [
    "import os\n",
    "\n",
    "import pandas as pd\n",
    "import numpy as np\n",
    "from tqdm import tqdm\n",
    "\n",
    "import seaborn as sns\n",
    "import matplotlib.pyplot as plt\n",
    "\n",
    "import statsmodels.api as sm"
   ]
  },
  {
   "cell_type": "code",
   "execution_count": 2,
   "metadata": {},
   "outputs": [
    {
     "name": "stderr",
     "output_type": "stream",
     "text": [
      "C:\\Users\\Alu\\Anaconda3\\lib\\site-packages\\tqdm\\std.py:648: FutureWarning: The Panel class is removed from pandas. Accessing it from the top-level namespace will also be removed in the next version\n",
      "  from pandas import Panel\n"
     ]
    }
   ],
   "source": [
    "tqdm.pandas()"
   ]
  },
  {
   "cell_type": "markdown",
   "metadata": {},
   "source": [
    "# Util"
   ]
  },
  {
   "cell_type": "code",
   "execution_count": 3,
   "metadata": {},
   "outputs": [],
   "source": [
    "def get_cat_2(x):\n",
    "    l = x['categories'].replace('[','').replace(']','').split('|')\n",
    "    if len(l)>2:\n",
    "        return l[2]\n",
    "    return ''"
   ]
  },
  {
   "cell_type": "code",
   "execution_count": 4,
   "metadata": {},
   "outputs": [],
   "source": [
    "def create_o_vectors(x):\n",
    "    vec = [0]*len(map_aspects)\n",
    "    for i in range (len(x)):\n",
    "        vec[map_aspects[x.iloc[i]['key_aspect']]] = x.iloc[i]['predicted_score']\n",
    "    \n",
    "    return pd.Series(vec+[x['scores'].values[0]])"
   ]
  },
  {
   "cell_type": "markdown",
   "metadata": {},
   "source": [
    "# Import and format data"
   ]
  },
  {
   "cell_type": "code",
   "execution_count": 5,
   "metadata": {},
   "outputs": [],
   "source": [
    "df_proba = pd.read_csv('Weights Cell Phones & Accessories.csv')\n",
    "map_aspects = {x[1]['key_aspect']:x[1]['index'] for x in df_proba.reset_index().iterrows()}"
   ]
  },
  {
   "cell_type": "code",
   "execution_count": 6,
   "metadata": {},
   "outputs": [
    {
     "data": {
      "text/html": [
       "<div>\n",
       "<style scoped>\n",
       "    .dataframe tbody tr th:only-of-type {\n",
       "        vertical-align: middle;\n",
       "    }\n",
       "\n",
       "    .dataframe tbody tr th {\n",
       "        vertical-align: top;\n",
       "    }\n",
       "\n",
       "    .dataframe thead th {\n",
       "        text-align: right;\n",
       "    }\n",
       "</style>\n",
       "<table border=\"1\" class=\"dataframe\">\n",
       "  <thead>\n",
       "    <tr style=\"text-align: right;\">\n",
       "      <th></th>\n",
       "      <th>idx</th>\n",
       "      <th>categories</th>\n",
       "      <th>scores</th>\n",
       "      <th>key_aspect</th>\n",
       "      <th>predicted_score</th>\n",
       "    </tr>\n",
       "  </thead>\n",
       "  <tbody>\n",
       "    <tr>\n",
       "      <td>0</td>\n",
       "      <td>51539801461</td>\n",
       "      <td>Cell Phones &amp; Accessories|Accessories|Headsets...</td>\n",
       "      <td>4.0</td>\n",
       "      <td>good</td>\n",
       "      <td>0.978743</td>\n",
       "    </tr>\n",
       "    <tr>\n",
       "      <td>1</td>\n",
       "      <td>833223815502</td>\n",
       "      <td>Cell Phones &amp; Accessories|Accessories|Screen P...</td>\n",
       "      <td>5.0</td>\n",
       "      <td>good|one|put|part|quality</td>\n",
       "      <td>0.999654</td>\n",
       "    </tr>\n",
       "    <tr>\n",
       "      <td>2</td>\n",
       "      <td>412316932342</td>\n",
       "      <td>Cell Phones &amp; Accessories|Cases|Basic Cases|El...</td>\n",
       "      <td>5.0</td>\n",
       "      <td>amazing</td>\n",
       "      <td>0.999928</td>\n",
       "    </tr>\n",
       "    <tr>\n",
       "      <td>3</td>\n",
       "      <td>1236950607268</td>\n",
       "      <td>Cell Phones &amp; Accessories|Accessories|Accessor...</td>\n",
       "      <td>5.0</td>\n",
       "      <td>easy</td>\n",
       "      <td>0.991919</td>\n",
       "    </tr>\n",
       "    <tr>\n",
       "      <td>4</td>\n",
       "      <td>1700807108971</td>\n",
       "      <td>Cell Phones &amp; Accessories|Cases|Basic Cases|</td>\n",
       "      <td>1.0</td>\n",
       "      <td>hard</td>\n",
       "      <td>-0.730210</td>\n",
       "    </tr>\n",
       "  </tbody>\n",
       "</table>\n",
       "</div>"
      ],
      "text/plain": [
       "             idx                                         categories  scores  \\\n",
       "0    51539801461  Cell Phones & Accessories|Accessories|Headsets...     4.0   \n",
       "1   833223815502  Cell Phones & Accessories|Accessories|Screen P...     5.0   \n",
       "2   412316932342  Cell Phones & Accessories|Cases|Basic Cases|El...     5.0   \n",
       "3  1236950607268  Cell Phones & Accessories|Accessories|Accessor...     5.0   \n",
       "4  1700807108971       Cell Phones & Accessories|Cases|Basic Cases|     1.0   \n",
       "\n",
       "                  key_aspect  predicted_score  \n",
       "0                       good         0.978743  \n",
       "1  good|one|put|part|quality         0.999654  \n",
       "2                    amazing         0.999928  \n",
       "3                       easy         0.991919  \n",
       "4                       hard        -0.730210  "
      ]
     },
     "execution_count": 6,
     "metadata": {},
     "output_type": "execute_result"
    }
   ],
   "source": [
    "# this is basicaly the output of the Sentiment analyzer (I just imported the parquet and change it to csv)\n",
    "df_reg = pd.read_csv('Cell_Phones_Accessories.csv').drop(['Unnamed: 0', 'idx_', 'asin', 'prediction', 'main_cat', 'reviews', 'split_aspect', 'count', 'text'], axis=1)\n",
    "df_reg.head()"
   ]
  },
  {
   "cell_type": "code",
   "execution_count": 7,
   "metadata": {},
   "outputs": [
    {
     "name": "stderr",
     "output_type": "stream",
     "text": [
      "100%|█████████████████████████████████████████████████████████████████████| 1297964/1297964 [00:24<00:00, 52186.72it/s]\n",
      "100%|█████████████████████████████████████████████████████████████████████| 1297964/1297964 [00:24<00:00, 52307.74it/s]\n"
     ]
    }
   ],
   "source": [
    "# create two level of categories\n",
    "df_reg['cat_1'] = df_reg.progress_apply(lambda x : x['categories'].replace('[','').replace(']','').split('|')[1], axis=1)\n",
    "df_reg['cat_2'] = df_reg.progress_apply(lambda x : get_cat_2(x), axis=1)"
   ]
  },
  {
   "cell_type": "code",
   "execution_count": 22,
   "metadata": {},
   "outputs": [
    {
     "data": {
      "text/html": [
       "<div>\n",
       "<style scoped>\n",
       "    .dataframe tbody tr th:only-of-type {\n",
       "        vertical-align: middle;\n",
       "    }\n",
       "\n",
       "    .dataframe tbody tr th {\n",
       "        vertical-align: top;\n",
       "    }\n",
       "\n",
       "    .dataframe thead th {\n",
       "        text-align: right;\n",
       "    }\n",
       "</style>\n",
       "<table border=\"1\" class=\"dataframe\">\n",
       "  <thead>\n",
       "    <tr style=\"text-align: right;\">\n",
       "      <th></th>\n",
       "      <th>idx</th>\n",
       "      <th>categories</th>\n",
       "      <th>scores</th>\n",
       "      <th>key_aspect</th>\n",
       "      <th>predicted_score</th>\n",
       "      <th>cat_1</th>\n",
       "      <th>cat_2</th>\n",
       "    </tr>\n",
       "  </thead>\n",
       "  <tbody>\n",
       "    <tr>\n",
       "      <td>0</td>\n",
       "      <td>51539801461</td>\n",
       "      <td>Cell Phones &amp; Accessories|Accessories|Headsets...</td>\n",
       "      <td>4.0</td>\n",
       "      <td>good</td>\n",
       "      <td>0.978743</td>\n",
       "      <td>Accessories</td>\n",
       "      <td>Headsets</td>\n",
       "    </tr>\n",
       "    <tr>\n",
       "      <td>1</td>\n",
       "      <td>833223815502</td>\n",
       "      <td>Cell Phones &amp; Accessories|Accessories|Screen P...</td>\n",
       "      <td>5.0</td>\n",
       "      <td>good|one|put|part|quality</td>\n",
       "      <td>0.999654</td>\n",
       "      <td>Accessories</td>\n",
       "      <td>Screen Protectors</td>\n",
       "    </tr>\n",
       "    <tr>\n",
       "      <td>2</td>\n",
       "      <td>412316932342</td>\n",
       "      <td>Cell Phones &amp; Accessories|Cases|Basic Cases|El...</td>\n",
       "      <td>5.0</td>\n",
       "      <td>amazing</td>\n",
       "      <td>0.999928</td>\n",
       "      <td>Cases</td>\n",
       "      <td>Basic Cases</td>\n",
       "    </tr>\n",
       "    <tr>\n",
       "      <td>3</td>\n",
       "      <td>1236950607268</td>\n",
       "      <td>Cell Phones &amp; Accessories|Accessories|Accessor...</td>\n",
       "      <td>5.0</td>\n",
       "      <td>easy</td>\n",
       "      <td>0.991919</td>\n",
       "      <td>Accessories</td>\n",
       "      <td>Accessory Kits</td>\n",
       "    </tr>\n",
       "    <tr>\n",
       "      <td>4</td>\n",
       "      <td>1700807108971</td>\n",
       "      <td>Cell Phones &amp; Accessories|Cases|Basic Cases|</td>\n",
       "      <td>1.0</td>\n",
       "      <td>hard</td>\n",
       "      <td>-0.730210</td>\n",
       "      <td>Cases</td>\n",
       "      <td>Basic Cases</td>\n",
       "    </tr>\n",
       "  </tbody>\n",
       "</table>\n",
       "</div>"
      ],
      "text/plain": [
       "             idx                                         categories  scores  \\\n",
       "0    51539801461  Cell Phones & Accessories|Accessories|Headsets...     4.0   \n",
       "1   833223815502  Cell Phones & Accessories|Accessories|Screen P...     5.0   \n",
       "2   412316932342  Cell Phones & Accessories|Cases|Basic Cases|El...     5.0   \n",
       "3  1236950607268  Cell Phones & Accessories|Accessories|Accessor...     5.0   \n",
       "4  1700807108971       Cell Phones & Accessories|Cases|Basic Cases|     1.0   \n",
       "\n",
       "                  key_aspect  predicted_score        cat_1              cat_2  \n",
       "0                       good         0.978743  Accessories           Headsets  \n",
       "1  good|one|put|part|quality         0.999654  Accessories  Screen Protectors  \n",
       "2                    amazing         0.999928        Cases        Basic Cases  \n",
       "3                       easy         0.991919  Accessories     Accessory Kits  \n",
       "4                       hard        -0.730210        Cases        Basic Cases  "
      ]
     },
     "execution_count": 22,
     "metadata": {},
     "output_type": "execute_result"
    }
   ],
   "source": [
    "df_reg.head()"
   ]
  },
  {
   "cell_type": "markdown",
   "metadata": {},
   "source": [
    "# Category Overview"
   ]
  },
  {
   "cell_type": "markdown",
   "metadata": {},
   "source": [
    "### Category level 1 "
   ]
  },
  {
   "cell_type": "code",
   "execution_count": 8,
   "metadata": {},
   "outputs": [
    {
     "data": {
      "image/png": "[encoded data removed]",
      "text/plain": [
       "<Figure size 432x288 with 1 Axes>"
      ]
     },
     "metadata": {},
     "output_type": "display_data"
    }
   ],
   "source": [
    "labels = ['Cell Phones', 'Accessories', 'other', 'Cases']\n",
    "sizes = [34471, 204632, 215+877, 250894]\n",
    "\n",
    "colors = ['#D83988','#4CAFAF','#99ff99','#B76EC8']\n",
    " \n",
    "fig1, ax1 = plt.subplots()\n",
    "ax1.pie(sizes, colors = colors, labels=labels, autopct='%1.1f%%', startangle=90)\n",
    "\n",
    "centre_circle = plt.Circle((0,0),0.70,fc='white')\n",
    "fig = plt.gcf()\n",
    "fig.gca().add_artist(centre_circle)\n",
    "\n",
    "\n",
    "ax1.axis('equal')  \n",
    "plt.tight_layout()\n",
    "plt.show()"
   ]
  },
  {
   "cell_type": "markdown",
   "metadata": {},
   "source": [
    "### level 2 Category (inside Accessories)"
   ]
  },
  {
   "cell_type": "code",
   "execution_count": 9,
   "metadata": {},
   "outputs": [
    {
     "data": {
      "image/png": "[encoded data removed]",
      "text/plain": [
       "<Figure size 432x288 with 1 Axes>"
      ]
     },
     "metadata": {},
     "output_type": "display_data"
    }
   ],
   "source": [
    "labels = ['Accessory Kits', 'Batteries', 'Screen Protectors', 'Data Cables', 'Car Accessories', 'Chargers', 'Headsets', 'Bluetooth Speakers']\n",
    "sizes = [17993, 21763, 32338, 12657, 16884, 26657, 40290, 5449]\n",
    "\n",
    "# colors = ['#D83988','#4CAFAF','#99ff99','#B76EC8']\n",
    " \n",
    "fig1, ax1 = plt.subplots()\n",
    "ax1.pie(sizes, labels=labels, autopct='%1.1f%%', startangle=90)\n",
    "\n",
    "centre_circle = plt.Circle((0,0),0.70,fc='white')\n",
    "fig = plt.gcf()\n",
    "fig.gca().add_artist(centre_circle)\n",
    "\n",
    "\n",
    "ax1.axis('equal')  \n",
    "plt.tight_layout()\n",
    "plt.show()"
   ]
  },
  {
   "cell_type": "markdown",
   "metadata": {},
   "source": [
    "# Global Category Aspect Visualization"
   ]
  },
  {
   "cell_type": "code",
   "execution_count": 10,
   "metadata": {},
   "outputs": [],
   "source": [
    "aspects_list = ['cheap', 'battery|life|95%', 'larger', 'different', 'compatible', 'solid', 'design']\n",
    "category = 'global'"
   ]
  },
  {
   "cell_type": "markdown",
   "metadata": {},
   "source": [
    "### Frequencies"
   ]
  },
  {
   "cell_type": "code",
   "execution_count": 49,
   "metadata": {},
   "outputs": [
    {
     "data": {
      "image/png": "[encoded data removed]",
      "text/plain": [
       "<Figure size 432x288 with 1 Axes>"
      ]
     },
     "metadata": {
      "needs_background": "light"
     },
     "output_type": "display_data"
    }
   ],
   "source": [
    "ax = sns.barplot(x=\"count\", \n",
    "                 y=\"key_aspect\", \n",
    "                 data=df_proba[df_proba['key_aspect'].isin(aspects_list)].sort_values('key_aspect'),\n",
    "          palette=\"Blues_d\")"
   ]
  },
  {
   "cell_type": "markdown",
   "metadata": {},
   "source": [
    "### Proba weights"
   ]
  },
  {
   "cell_type": "code",
   "execution_count": 53,
   "metadata": {},
   "outputs": [
    {
     "data": {
      "image/png": "[encoded data removed]",
      "text/plain": [
       "<Figure size 432x288 with 1 Axes>"
      ]
     },
     "metadata": {
      "needs_background": "light"
     },
     "output_type": "display_data"
    }
   ],
   "source": [
    "ax = sns.barplot(x=\"freq_weighted_value\", \n",
    "                 y=\"key_aspect\", \n",
    "                 data=df_proba[df_proba['key_aspect'].isin(aspects_list)].sort_values('key_aspect'),\n",
    "          palette=\"Blues_d\")"
   ]
  },
  {
   "cell_type": "markdown",
   "metadata": {},
   "source": [
    "### Linear reg importance values"
   ]
  },
  {
   "cell_type": "code",
   "execution_count": 13,
   "metadata": {},
   "outputs": [],
   "source": [
    "if \"W_reg_\"+category+\".npy\" in os.listdir('.'):\n",
    "    W_reg = np.load(\"W_reg_\"+category+\".npy\")\n",
    "else :\n",
    "    # takes around 15 minutes\n",
    "    df_train = df_reg.groupby('idx').progress_apply(create_o_vectors)\n",
    "    X = df_train.iloc[:,:-1].values\n",
    "    y = df_train.iloc[:,-1].values\n",
    "    mod = sm.OLS(y, X)\n",
    "    res = mod.fit()\n",
    "\n",
    "    coefs = res.params\n",
    "    stds = res.bse  \n",
    "    W_reg = np.array([[np.random.normal(loc=coefs[i], scale=stds[i]) for i in range(X.shape[1])]    for j in range(min(X.shape[0], 5000)) ])\n",
    "    np.save(\"W_reg_\"+category+\".npy\", W_reg)"
   ]
  },
  {
   "cell_type": "code",
   "execution_count": 51,
   "metadata": {},
   "outputs": [
    {
     "data": {
      "image/png": "[encoded data removed]",
      "text/plain": [
       "<Figure size 432x288 with 1 Axes>"
      ]
     },
     "metadata": {
      "needs_background": "light"
     },
     "output_type": "display_data"
    }
   ],
   "source": [
    "df_boxchart = pd.DataFrame(W_reg, columns = df_proba['key_aspect'].values)\n",
    "df_boxchart = df_boxchart[aspects_list]\n",
    "df_boxchart = pd.melt(df_boxchart, var_name=\"a\", value_name=\"c\")\n",
    "\n",
    "ax = sns.barplot(x=\"c\", \n",
    "                 y=\"a\", \n",
    "                 data=df_boxchart.groupby('a').mean().reset_index().sort_values('a'),\n",
    "                 palette=\"Blues_d\"\n",
    "                )"
   ]
  },
  {
   "cell_type": "markdown",
   "metadata": {},
   "source": [
    "# Sub-Category Aspect Visualization"
   ]
  },
  {
   "cell_type": "markdown",
   "metadata": {},
   "source": [
    "## Cell Phones sub-category"
   ]
  },
  {
   "cell_type": "code",
   "execution_count": 68,
   "metadata": {},
   "outputs": [],
   "source": [
    "category = \"Batteries\"\n",
    "level = \"2\""
   ]
  },
  {
   "cell_type": "markdown",
   "metadata": {},
   "source": [
    "### Frequencies"
   ]
  },
  {
   "cell_type": "code",
   "execution_count": 69,
   "metadata": {},
   "outputs": [
    {
     "data": {
      "image/png": "[encoded data removed]",
      "text/plain": [
       "<Figure size 432x288 with 1 Axes>"
      ]
     },
     "metadata": {
      "needs_background": "light"
     },
     "output_type": "display_data"
    }
   ],
   "source": [
    "data_chart = df_reg.copy()\n",
    "data_chart['count'] = 1\n",
    "data_chart = data_chart[data_chart['cat_'+level]==category]\n",
    "data_chart = data_chart[data_chart['key_aspect'].isin(aspects_list)]\n",
    "data_chart = data_chart.groupby('key_aspect').count().reset_index().sort_values(\"key_aspect\")\n",
    "ax = sns.barplot(x=\"count\", \n",
    "                 y=\"key_aspect\", \n",
    "                 data=data_chart,\n",
    "          palette=\"Blues_d\")"
   ]
  },
  {
   "cell_type": "markdown",
   "metadata": {},
   "source": [
    "### Linear reg importance values"
   ]
  },
  {
   "cell_type": "code",
   "execution_count": 70,
   "metadata": {},
   "outputs": [],
   "source": [
    "if \"W_reg_\"+category+\".npy\" in os.listdir('.'):\n",
    "    W_reg = np.load(\"W_reg_\"+category+\".npy\")\n",
    "else :\n",
    "    df_reg_cat = df_reg[df_reg['cat_'+level]==category]\n",
    "    df_train = df_reg_cat.groupby('idx').progress_apply(create_o_vectors)\n",
    "    X = df_train.iloc[:,:-1].values\n",
    "    y = df_train.iloc[:,-1].values\n",
    "    mod = sm.OLS(y, X)\n",
    "    res = mod.fit()\n",
    "\n",
    "    coefs = res.params\n",
    "    stds = res.bse\n",
    "    W_reg = np.array([[np.random.normal(loc=coefs[i], scale=stds[i]) for i in range(X.shape[1])]    for j in range(X.shape[0]) ])\n",
    "    np.save(\"W_reg_\"+category+\".npy\", W_reg)"
   ]
  },
  {
   "cell_type": "code",
   "execution_count": 71,
   "metadata": {},
   "outputs": [
    {
     "data": {
      "image/png": "[encoded data removed]",
      "text/plain": [
       "<Figure size 432x288 with 1 Axes>"
      ]
     },
     "metadata": {
      "needs_background": "light"
     },
     "output_type": "display_data"
    }
   ],
   "source": [
    "df_boxchart = pd.DataFrame(W_reg, columns = df_proba['key_aspect'].values)\n",
    "df_boxchart = df_boxchart[aspects_list]\n",
    "df_boxchart = pd.melt(df_boxchart, var_name=\"a\", value_name=\"c\").sort_values('a')\n",
    "ax = sns.boxplot(x=\"c\", y=\"a\", data=df_boxchart, palette=\"Blues_d\",\n",
    "                showfliers=False)"
   ]
  },
  {
   "cell_type": "markdown",
   "metadata": {},
   "source": [
    "## Case sub-category"
   ]
  },
  {
   "cell_type": "code",
   "execution_count": 72,
   "metadata": {},
   "outputs": [],
   "source": [
    "category = \"Cases\"\n",
    "level = \"1\""
   ]
  },
  {
   "cell_type": "markdown",
   "metadata": {},
   "source": [
    "### Frequencies"
   ]
  },
  {
   "cell_type": "code",
   "execution_count": 73,
   "metadata": {},
   "outputs": [
    {
     "data": {
      "image/png": "[encoded data removed]",
      "text/plain": [
       "<Figure size 432x288 with 1 Axes>"
      ]
     },
     "metadata": {
      "needs_background": "light"
     },
     "output_type": "display_data"
    }
   ],
   "source": [
    "data_chart = df_reg.copy()\n",
    "data_chart['count'] = 1\n",
    "data_chart = data_chart[data_chart['cat_'+level]==category]\n",
    "data_chart = data_chart[data_chart['key_aspect'].isin(aspects_list)]\n",
    "data_chart = data_chart.groupby('key_aspect').count().reset_index().sort_values(\"key_aspect\")\n",
    "ax = sns.barplot(x=\"count\", \n",
    "                 y=\"key_aspect\", \n",
    "                 data=data_chart,\n",
    "          palette=\"Blues_d\")"
   ]
  },
  {
   "cell_type": "markdown",
   "metadata": {},
   "source": [
    "### Linear reg importance values"
   ]
  },
  {
   "cell_type": "code",
   "execution_count": 74,
   "metadata": {},
   "outputs": [],
   "source": [
    "if \"W_reg_\"+category+\".npy\" in os.listdir('.'):\n",
    "    W_reg = np.load(\"W_reg_\"+category+\".npy\")\n",
    "else :\n",
    "    df_reg_cat = df_reg[df_reg['cat_'+level]==category]\n",
    "    df_train = df_reg_cat.groupby('idx').progress_apply(create_o_vectors)\n",
    "    X = df_train.iloc[:,:-1].values\n",
    "    y = df_train.iloc[:,-1].values\n",
    "    mod = sm.OLS(y, X)\n",
    "    res = mod.fit()\n",
    "\n",
    "    coefs = res.params\n",
    "    stds = res.bse\n",
    "    W_reg = np.array([[np.random.normal(loc=coefs[i], scale=stds[i]) for i in range(X.shape[1])]    for j in range(X.shape[0]) ])\n",
    "    np.save(\"W_reg_\"+category+\".npy\", W_reg)"
   ]
  },
  {
   "cell_type": "code",
   "execution_count": 75,
   "metadata": {},
   "outputs": [
    {
     "data": {
      "image/png": "[encoded data removed]",
      "text/plain": [
       "<Figure size 432x288 with 1 Axes>"
      ]
     },
     "metadata": {
      "needs_background": "light"
     },
     "output_type": "display_data"
    }
   ],
   "source": [
    "df_boxchart = pd.DataFrame(W_reg, columns = df_proba['key_aspect'].values)\n",
    "df_boxchart = df_boxchart[aspects_list]\n",
    "df_boxchart = pd.melt(df_boxchart, var_name=\"a\", value_name=\"c\").sort_values('a')\n",
    "ax = sns.boxplot(x=\"c\", y=\"a\", data=df_boxchart, palette=\"Blues_d\",\n",
    "                showfliers=False)"
   ]
  },
  {
   "cell_type": "code",
   "execution_count": null,
   "metadata": {},
   "outputs": [],
   "source": []
  },
  {
   "cell_type": "code",
   "execution_count": null,
   "metadata": {},
   "outputs": [],
   "source": []
  }
 ],
 "metadata": {
  "kernelspec": {
   "display_name": "Python 3",
   "language": "python",
   "name": "python3"
  },
  "language_info": {
   "codemirror_mode": {
    "name": "ipython",
    "version": 3
   },
   "file_extension": ".py",
   "mimetype": "text/x-python",
   "name": "python",
   "nbconvert_exporter": "python",
   "pygments_lexer": "ipython3",
   "version": "3.7.4"
  }
 },
 "nbformat": 4,
 "nbformat_minor": 2
}
